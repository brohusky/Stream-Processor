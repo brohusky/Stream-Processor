{
 "cells": [
  {
   "cell_type": "markdown",
   "metadata": {},
   "source": [
    "# Intro\n",
    "\n",
    "In [Part1](./Part-1%20-%20Camera%20Access%20and%20monitoring.ipynb) explained how to get access to the camera feed.\n",
    "\n",
    "In this part we are getting more data driven and lets stats help us write better code.\n",
    "Obviously we are going to start by adding stat on the page to show how many frame per seconds(FPS) our script can process.\n",
    "\n",
    "![Example](./Feed_screenshot_07.01.2019.png \"Example\")\n"
   ]
  },
  {
   "cell_type": "code",
   "execution_count": 1,
   "metadata": {
    "scrolled": true
   },
   "outputs": [
    {
     "name": "stdout",
     "output_type": "stream",
     "text": [
      "Requirement already up-to-date: pip in /usr/local/lib/python3.7/site-packages (18.1)\n",
      "Requirement already satisfied: opencv-python in /usr/local/lib/python3.7/site-packages (3.4.5.20)\n",
      "Requirement already satisfied: numpy in /usr/local/lib/python3.7/site-packages (1.15.4)\n",
      "Requirement already satisfied: imutils in /usr/local/lib/python3.7/site-packages (0.5.2)\n",
      "dependancies has been installed successfully\n"
     ]
    }
   ],
   "source": [
    "!pip3 install --upgrade pip\n",
    "!pip3 install opencv-python numpy imutils\n",
    "print('dependancies has been installed successfully')\n"
   ]
  },
  {
   "cell_type": "markdown",
   "metadata": {},
   "source": [
    "## Let's start having fun"
   ]
  },
  {
   "cell_type": "code",
   "execution_count": 2,
   "metadata": {
    "scrolled": true
   },
   "outputs": [],
   "source": [
    "import cv2\n",
    "import imutils\n",
    "\n",
    "from imutils.video import WebcamVideoStream\n",
    "from imutils.video import FPS\n",
    "\n",
    "cv2.namedWindow('Feed', cv2.WINDOW_NORMAL)\n",
    "\n",
    "vs = WebcamVideoStream(src=0).start()\n",
    "\n",
    "fps = FPS().start()\n",
    "\n",
    "while True:\n",
    "    frame = imutils.resize(vs.read(), width=600)\n",
    "    frame = cv2.cvtColor(frame, cv2.COLOR_BGR2GRAY)\n",
    "    \n",
    "    # add your codes here\n",
    "\n",
    "    fps.stop()\n",
    "    cv2.putText(frame, \"FPS: {:03d}\".format(int(fps.fps())), (5, 20), cv2.FONT_HERSHEY_SIMPLEX, .6, (0, 0, 0), 2)\n",
    "    cv2.imshow('Feed', frame)\n",
    "    \n",
    "    if cv2.waitKey(1) & 0xFF == ord('q'):\n",
    "        break\n",
    "\n",
    "    fps.update()\n",
    "\n",
    "cv2.destroyAllWindows()\n",
    "vs.stream.release()\n",
    "vs.stop()"
   ]
  }
 ],
 "metadata": {
  "kernelspec": {
   "display_name": "Python 2",
   "language": "python",
   "name": "python2"
  },
  "language_info": {
   "codemirror_mode": {
    "name": "ipython",
    "version": 3
   },
   "file_extension": ".py",
   "mimetype": "text/x-python",
   "name": "python",
   "nbconvert_exporter": "python",
   "pygments_lexer": "ipython3",
   "version": "3.7.1"
  }
 },
 "nbformat": 4,
 "nbformat_minor": 2
}
